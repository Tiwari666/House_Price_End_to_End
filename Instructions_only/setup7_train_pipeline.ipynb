{
 "cells": [
  {
   "cell_type": "markdown",
   "id": "5e97318e",
   "metadata": {},
   "source": [
    "# pipeline \n",
    "\n",
    "pipeline files and logic are meant to automate what you originally did in notebooks.\n",
    "\n",
    "This  workflow is production-ready:\n",
    "\n",
    "We don’t have to redo steps manually in notebooks.\n",
    "\n",
    "We can retrain anytime from scratch with train_pipeline.py."
   ]
  },
  {
   "cell_type": "markdown",
   "id": "2a528024",
   "metadata": {},
   "source": []
  }
 ],
 "metadata": {
  "language_info": {
   "name": "python"
  }
 },
 "nbformat": 4,
 "nbformat_minor": 5
}
