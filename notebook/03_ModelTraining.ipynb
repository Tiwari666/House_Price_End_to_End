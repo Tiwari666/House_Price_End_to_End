{
 "cells": [
  {
   "cell_type": "markdown",
   "id": "379db7e5",
   "metadata": {},
   "source": [
    "# Models for Predicting interest_rate (Regression Task)"
   ]
  },
  {
   "cell_type": "markdown",
   "id": "b3897b69",
   "metadata": {},
   "source": [
    "| Step | Model                       | Why Include It?                                         |\n",
    "| ---- | --------------------------- | ------------------------------------------------------- |\n",
    "| 1️⃣  | **Linear Regression**       | Baseline, fast, interpretable                           |\n",
    "| 2️⃣  | **Ridge / Lasso**           | Prevents overfitting, handles multicollinearity         |\n",
    "| 3️⃣  | **Decision Tree Regressor** | Captures non-linear patterns                            |\n",
    "| 4️⃣  | **Random Forest**           | Ensemble, robust to noise & outliers                    |\n",
    "| 5️⃣  | **Gradient Boosting**       | Powerful on tabular data (e.g., `HistGradientBoosting`) |\n",
    "| 6️⃣  | **XGBoost / LightGBM**      | Fast and accurate, industry-favorite                    |\n"
   ]
  },
  {
   "cell_type": "markdown",
   "id": "7ca4bfbf",
   "metadata": {},
   "source": [
    "# Load Train-Test Data in 03_modeling.ipynb"
   ]
  },
  {
   "cell_type": "code",
   "execution_count": 1,
   "id": "fdd3a45f",
   "metadata": {},
   "outputs": [
    {
     "name": "stdout",
     "output_type": "stream",
     "text": [
      "X_train shape: (1760, 20)\n",
      "X_test shape: (440, 20)\n",
      "y_train shape: (1760,)\n",
      "y_test shape: (440,)\n"
     ]
    }
   ],
   "source": [
    "import joblib\n",
    "\n",
    "# Load the train-test data\n",
    "X_train, X_test, y_train, y_test = joblib.load('data/processed/train_test_split.pkl')\n",
    "\n",
    "# Check the shapes\n",
    "print(\"X_train shape:\", X_train.shape)\n",
    "print(\"X_test shape:\", X_test.shape)\n",
    "print(\"y_train shape:\", y_train.shape)\n",
    "print(\"y_test shape:\", y_test.shape)"
   ]
  },
  {
   "cell_type": "markdown",
   "id": "4365e6a9",
   "metadata": {},
   "source": [
    "# Train and Evaluate a Baseline Model: Linear Regression model:"
   ]
  },
  {
   "cell_type": "code",
   "execution_count": 2,
   "id": "8fc7ccb8",
   "metadata": {},
   "outputs": [],
   "source": [
    "import numpy as np \n",
    "import pandas as pd"
   ]
  },
  {
   "cell_type": "code",
   "execution_count": 3,
   "id": "b1e76527",
   "metadata": {},
   "outputs": [
    {
     "name": "stdout",
     "output_type": "stream",
     "text": [
      "Model Evaluation:\n",
      "R² Score     : 0.7668\n",
      "Adjusted R²  : 0.7557\n",
      "MAE          : 0.3597\n"
     ]
    }
   ],
   "source": [
    "from sklearn.linear_model import LinearRegression\n",
    "from sklearn.metrics import mean_squared_error, mean_absolute_error, r2_score\n",
    "\n",
    "# 1. Initialize model\n",
    "lr_model = LinearRegression()\n",
    "\n",
    "# 2. Train the model\n",
    "lr_model.fit(X_train, y_train)\n",
    "\n",
    "# 3. Predict on test set\n",
    "y_pred = lr_model.predict(X_test)\n",
    "\n",
    "# 4. Evaluate\n",
    "r2 = r2_score(y_test, y_pred)\n",
    "n = X_test.shape[0]  # number of observations\n",
    "p = X_test.shape[1]  # number of predictors\n",
    "adj_r2 = 1 - (1 - r2) * (n - 1) / (n - p - 1)\n",
    "\n",
    "print(\"Model Evaluation:\")\n",
    "print(f\"R² Score     : {r2:.4f}\")\n",
    "print(f\"Adjusted R²  : {adj_r2:.4f}\")\n",
    "print(f\"MAE          : {mean_absolute_error(y_test, y_pred):.4f}\")"
   ]
  },
  {
   "cell_type": "markdown",
   "id": "8a91a61b",
   "metadata": {},
   "source": [
    "| Metric          | Value                      | Interpretation                                                                      |\n",
    "| --------------- | -------------------------- | ----------------------------------------------------------------------------------- |\n",
    "| **R² Score**    | 0.7668                     | This model explains \\~77% of the variance in the target variable (`interest_rate`). |\n",
    "| **Adjusted R²** | 0.7557                     | Adjusted for number of predictors — still strong.                                   |\n",
    "| **MAE**         | 0.3597                     | On average, predictions are off by **0.36% interest rate points**.                  |\n"
   ]
  },
  {
   "cell_type": "markdown",
   "id": "3e9e28a7",
   "metadata": {},
   "source": [
    "# Define Models"
   ]
  },
  {
   "cell_type": "code",
   "execution_count": 6,
   "id": "8d88c21f",
   "metadata": {},
   "outputs": [
    {
     "name": "stdout",
     "output_type": "stream",
     "text": [
      "Requirement already satisfied: xgboost in c:\\users\\naren\\anaconda3\\envs\\lr_bankloan_env\\lib\\site-packages (3.0.1)\n",
      "Collecting lightgbm\n",
      "  Downloading lightgbm-4.6.0-py3-none-win_amd64.whl.metadata (17 kB)\n",
      "Requirement already satisfied: numpy in c:\\users\\naren\\anaconda3\\envs\\lr_bankloan_env\\lib\\site-packages (from xgboost) (2.2.5)\n",
      "Requirement already satisfied: scipy in c:\\users\\naren\\anaconda3\\envs\\lr_bankloan_env\\lib\\site-packages (from xgboost) (1.15.3)\n",
      "Downloading lightgbm-4.6.0-py3-none-win_amd64.whl (1.5 MB)\n",
      "   ---------------------------------------- 0.0/1.5 MB ? eta -:--:--\n",
      "   ---------------------------------------- 1.5/1.5 MB 10.8 MB/s eta 0:00:00\n",
      "Installing collected packages: lightgbm\n",
      "Successfully installed lightgbm-4.6.0\n"
     ]
    }
   ],
   "source": [
    "!pip install xgboost lightgbm"
   ]
  },
  {
   "cell_type": "code",
   "execution_count": 5,
   "id": "b461b967",
   "metadata": {},
   "outputs": [
    {
     "name": "stdout",
     "output_type": "stream",
     "text": [
      "[LightGBM] [Info] Total Bins 1341\n",
      "[LightGBM] [Info] Number of data points in the train set: 1760, number of used features: 20\n",
      "[LightGBM] [Info] Start training from score -0.025899\n",
      "                      Model        R²  Adjusted R²       MAE\n",
      "0         Linear Regression  0.766791     0.755659  0.359683\n",
      "1          Ridge Regression  0.767039     0.755920  0.359560\n",
      "2          Lasso Regression -0.017860    -0.066446  0.802125\n",
      "3             Random Forest  0.800372     0.790844  0.318470\n",
      "4  Support Vector Regressor  0.785289     0.775040  0.325129\n",
      "5         Gradient Boosting  0.812279     0.803319  0.299277\n",
      "6                   XGBoost  0.772036     0.761154  0.338117\n",
      "7                  LightGBM  0.806362     0.797119  0.307773\n"
     ]
    }
   ],
   "source": [
    "from sklearn.linear_model import LinearRegression, Ridge, Lasso\n",
    "from sklearn.ensemble import RandomForestRegressor, GradientBoostingRegressor\n",
    "from sklearn.svm import SVR\n",
    "from sklearn.metrics import r2_score, mean_absolute_error\n",
    "import xgboost as xgb\n",
    "import lightgbm as lgb\n",
    "import pandas as pd\n",
    "\n",
    "models = {\n",
    "    \"Linear Regression\": LinearRegression(),\n",
    "    \"Ridge Regression\": Ridge(),\n",
    "    \"Lasso Regression\": Lasso(),\n",
    "    \"Random Forest\": RandomForestRegressor(),\n",
    "    \"Support Vector Regressor\": SVR(),\n",
    "    \"Gradient Boosting\": GradientBoostingRegressor(),\n",
    "    \"XGBoost\": xgb.XGBRegressor(),\n",
    "    \"LightGBM\": lgb.LGBMRegressor(force_col_wise=True)  # ✅ force_col_wise to suppress warning\n",
    "}\n",
    "\n",
    "results = []\n",
    "\n",
    "n = X_test.shape[0]  # number of test samples\n",
    "p = X_test.shape[1]  # number of features\n",
    "\n",
    "for name, model in models.items():\n",
    "    model.fit(X_train, y_train)\n",
    "    y_pred = model.predict(X_test)\n",
    "\n",
    "    r2 = r2_score(y_test, y_pred)\n",
    "    adj_r2 = 1 - (1 - r2) * (n - 1) / (n - p - 1)\n",
    "    mae = mean_absolute_error(y_test, y_pred)\n",
    "\n",
    "    results.append((name, r2, adj_r2, mae))\n",
    "\n",
    "# Results DataFrame\n",
    "results_df = pd.DataFrame(results, columns=[\"Model\", \"R²\", \"Adjusted R²\", \"MAE\"])\n",
    "print(results_df)"
   ]
  },
  {
   "cell_type": "code",
   "execution_count": 6,
   "id": "31ad56e7",
   "metadata": {},
   "outputs": [],
   "source": [
    "# Add '1 - MAE' to compare on same scale (higher is better)\n",
    "results_df['1 - MAE'] = 1 - results_df['MAE']"
   ]
  },
  {
   "cell_type": "code",
   "execution_count": 7,
   "id": "d074d4e4",
   "metadata": {},
   "outputs": [
    {
     "data": {
      "image/png": "[encoded data removed]",
      "text/plain": [
       "<Figure size 1200x600 with 1 Axes>"
      ]
     },
     "metadata": {},
     "output_type": "display_data"
    }
   ],
   "source": [
    "import matplotlib.pyplot as plt\n",
    "import numpy as np\n",
    "\n",
    "# Metrics to plot\n",
    "metrics = ['R²', 'Adjusted R²', '1 - MAE']\n",
    "\n",
    "# Create x locations for each model\n",
    "x = np.arange(len(results_df['Model']))\n",
    "width = 0.25\n",
    "\n",
    "# Plot\n",
    "plt.figure(figsize=(12, 6))\n",
    "for i, metric in enumerate(metrics):\n",
    "    plt.bar(x + i * width, results_df[metric], width, label=metric)\n",
    "\n",
    "# Labels and title\n",
    "plt.xlabel('Model')\n",
    "plt.ylabel('Score')\n",
    "plt.title('Comparison of Regression Model Performance')\n",
    "plt.xticks(x + width, results_df['Model'], rotation=45)\n",
    "plt.ylim(0, 1)\n",
    "plt.legend()\n",
    "plt.tight_layout()\n",
    "plt.show()"
   ]
  },
  {
   "cell_type": "markdown",
   "id": "b8971dda",
   "metadata": {},
   "source": [
    "# Conclusion from Model Comparison Plot\n",
    "\n",
    "Based on the grouped bar chart showing R², Adjusted R², and 1 - MAE for all models:\n",
    "| **Rank** | **Model**             | **Reason**                                  |\n",
    "| -------- | --------------------- | ------------------------------------------- |\n",
    "|  1     | **Gradient Boosting** | Best overall: highest R² & lowest MAE       |\n",
    "|  2     | **LightGBM**          | Very close to top, fast and efficient       |\n",
    "|  3     | **Random Forest**     | Strong performance, reliable ensemble model |\n"
   ]
  },
  {
   "cell_type": "markdown",
   "id": "a7db6dab",
   "metadata": {},
   "source": [
    "# Next Plan for  Regression Task\n",
    "\n",
    "| Step                                 | Action                                                                                  | Notes                            |\n",
    "| ------------------------------------ | --------------------------------------------------------------------------------------- | -------------------------------- |\n",
    "|  **Step 1: Cross-Validation**      | Use `cross_val_score` with scoring like `\"r2\"` or `\"neg_mean_absolute_error\"`           | To test model stability          |\n",
    "|  **Step 2: Select Top Models**     | Pick top 2–3 performers from earlier (e.g., Gradient Boosting, LightGBM, Random Forest) | Based on R², Adjusted R², MAE    |\n",
    "|  **Step 3: Hyperparameter Tuning** | Use `RandomizedSearchCV` (or `GridSearchCV`) on selected models                         | Efficient for large search space |\n",
    "|  **Step 4: Retrain + Evaluate**    | Retrain using best params on full train set → Evaluate on test set                      | Compare updated metrics          |\n"
   ]
  },
  {
   "cell_type": "markdown",
   "id": "a5c33898",
   "metadata": {},
   "source": [
    "#  Cross-validation"
   ]
  },
  {
   "cell_type": "markdown",
   "id": "673ced9b",
   "metadata": {},
   "source": [
    "# Cross-validation is a technique to evaluate how well your model generalizes to unseen data by splitting your training data into multiple parts (folds), training on some, and validating on the rest.\n",
    "\n",
    "It helps:\n",
    "\n",
    "Avoid overfitting\n",
    "\n",
    "Get a more stable performance estimate"
   ]
  },
  {
   "cell_type": "code",
   "execution_count": 9,
   "id": "63d86951",
   "metadata": {},
   "outputs": [
    {
     "name": "stdout",
     "output_type": "stream",
     "text": [
      "                      Model  Mean R² (CV)   Std Dev\n",
      "0         Linear Regression      0.756892  0.014526\n",
      "1          Ridge Regression      0.757061  0.014383\n",
      "2          Lasso Regression     -0.002556  0.001390\n",
      "3             Random Forest      0.807277  0.025954\n",
      "4  Support Vector Regressor      0.804172  0.023618\n",
      "5         Gradient Boosting      0.825735  0.019344\n",
      "6                  LightGBM      0.816547  0.023339\n"
     ]
    }
   ],
   "source": [
    "from sklearn.linear_model import LinearRegression, Ridge, Lasso\n",
    "from sklearn.ensemble import RandomForestRegressor, GradientBoostingRegressor\n",
    "from sklearn.svm import SVR\n",
    "from sklearn.model_selection import cross_val_score\n",
    "import lightgbm as lgb\n",
    "import pandas as pd\n",
    "\n",
    "# Define models (excluding XGBoost)\n",
    "models = {\n",
    "    \"Linear Regression\": LinearRegression(),\n",
    "    \"Ridge Regression\": Ridge(),\n",
    "    \"Lasso Regression\": Lasso(),\n",
    "    \"Random Forest\": RandomForestRegressor(),\n",
    "    \"Support Vector Regressor\": SVR(),\n",
    "    \"Gradient Boosting\": GradientBoostingRegressor(),\n",
    "    \"LightGBM\": lgb.LGBMRegressor(force_col_wise=True, verbosity=-1)\n",
    "}\n",
    "\n",
    "# Cross-validation\n",
    "cv_results = []\n",
    "for name, model in models.items():\n",
    "    scores = cross_val_score(model, X_train, y_train, cv=5, scoring='r2')\n",
    "    cv_results.append({\n",
    "        'Model': name,\n",
    "        'Mean R² (CV)': scores.mean(),\n",
    "        'Std Dev': scores.std()\n",
    "    })\n",
    "\n",
    "# Display results\n",
    "cv_df = pd.DataFrame(cv_results)\n",
    "print(cv_df)\n"
   ]
  },
  {
   "cell_type": "markdown",
   "id": "2586b599",
   "metadata": {},
   "source": [
    "# Model Selection Summary for Hyperparameter Tuning"
   ]
  },
  {
   "cell_type": "markdown",
   "id": "d1ef43a8",
   "metadata": {},
   "source": [
    "#  Cross-Validation Summary (5-Fold R² Score)\n",
    "\n",
    "| Model                   | Mean R² (CV) | Std Dev |\n",
    "| ----------------------- | ------------ | ------- |\n",
    "| ⭐ **Gradient Boosting** | **0.8256**   | 0.0196  |\n",
    "| LightGBM                | 0.8165       | 0.0233  |\n",
    "| Random Forest           | 0.8118       | 0.0295  |\n",
    "| SVR                     | 0.8042       | 0.0236  |\n",
    "| XGBoost                 | 0.7890       | 0.0229  |\n",
    "| Ridge Regression        | 0.7571       | 0.0144  |\n",
    "| Linear Regression       | 0.7569       | 0.0145  |\n",
    "| ❌ Lasso Regression      | -0.0026      | 0.0014  |\n",
    "\n",
    "\n",
    "Conclusion:\n",
    "\n",
    "  Gradient Boosting is the top performer with the highest R².\n",
    "\n",
    " LightGBM and Random Forest are also excellent and reliable choices.\n",
    "\n",
    " Lasso Regression significantly underperformed, likely due to too much regularization."
   ]
  },
  {
   "cell_type": "code",
   "execution_count": 10,
   "id": "dee289b2",
   "metadata": {},
   "outputs": [
    {
     "data": {
      "image/png": "[encoded data removed]",
      "text/plain": [
       "<Figure size 1200x600 with 1 Axes>"
      ]
     },
     "metadata": {},
     "output_type": "display_data"
    }
   ],
   "source": [
    "import matplotlib.pyplot as plt\n",
    "import numpy as np\n",
    "\n",
    "# Create x locations for each model\n",
    "x = np.arange(len(cv_df['Model']))\n",
    "width = 0.6\n",
    "\n",
    "# Plot\n",
    "plt.figure(figsize=(12, 6))\n",
    "plt.bar(x, cv_df['Mean R² (CV)'], width, yerr=cv_df['Std Dev'], capsize=5, color='skyblue')\n",
    "\n",
    "# Labels and title\n",
    "plt.xlabel('Model')\n",
    "plt.ylabel('Cross-Validated R² Score')\n",
    "plt.title('Model Comparison with Cross-Validation')\n",
    "plt.xticks(x, cv_df['Model'], rotation=45)\n",
    "plt.ylim(0, 1)\n",
    "plt.tight_layout()\n",
    "plt.show()\n",
    "\n"
   ]
  },
  {
   "cell_type": "markdown",
   "id": "e634b1da",
   "metadata": {},
   "source": [
    "# Cross-Validation Conclusion\n",
    "\n",
    "From the 5-fold cross-validation results:\n",
    "\n",
    "Top 3 performers based on average R²:\n",
    "\n",
    " Gradient Boosting (~0.826)\n",
    "\n",
    " LightGBM (~0.817)\n",
    "\n",
    " Random Forest (~0.807)\n",
    "\n",
    "❌ Lasso Regression showed negative R² — likely underfitting, can be safely excluded.\n",
    "\n",
    " Proceed to Hyperparameter Tuning for:\n",
    "\n",
    " Gradient Boosting\n",
    "\n",
    " LightGBM\n",
    "\n",
    " Random Forest \n",
    "\n",
    "These models show high predictive power already — fine-tuning may further enhance performance."
   ]
  },
  {
   "cell_type": "markdown",
   "id": "0c0798bb",
   "metadata": {},
   "source": [
    "# Hyperparameter Tuning"
   ]
  },
  {
   "cell_type": "code",
   "execution_count": 14,
   "id": "e9e51948",
   "metadata": {},
   "outputs": [
    {
     "name": "stdout",
     "output_type": "stream",
     "text": [
      "Best Gradient Boosting R²: 0.8252315289546743\n",
      "Best Random Forest R²    : 0.7856923412995094\n",
      "Best LightGBM R²         : 0.8225110090254312\n"
     ]
    }
   ],
   "source": [
    "from sklearn.model_selection import RandomizedSearchCV\n",
    "from sklearn.ensemble import GradientBoostingRegressor, RandomForestRegressor\n",
    "import lightgbm as lgb\n",
    "\n",
    "# ✅ Parameter grids\n",
    "param_grid_gb = {\n",
    "    'n_estimators': [100, 200, 300],\n",
    "    'learning_rate': [0.01, 0.05, 0.1],\n",
    "    'max_depth': [3, 4, 5]\n",
    "}\n",
    "\n",
    "param_grid_rf = {\n",
    "    'n_estimators': [100, 200, 300],\n",
    "    'max_depth': [None, 10, 20],\n",
    "    'max_features': ['sqrt', 'log2']\n",
    "}\n",
    "\n",
    "param_grid_lgb = {\n",
    "    'n_estimators': [100, 200, 300],\n",
    "    'learning_rate': [0.01, 0.05, 0.1],\n",
    "    'num_leaves': [31, 50, 100]\n",
    "}\n",
    "\n",
    "#  Initialize models\n",
    "gb = GradientBoostingRegressor()\n",
    "rf = RandomForestRegressor()\n",
    "lgb_model = lgb.LGBMRegressor(force_col_wise=True, verbosity=-1)\n",
    "\n",
    "#  Randomized Search\n",
    "rs_gb = RandomizedSearchCV(gb, param_distributions=param_grid_gb, n_iter=10, scoring='r2', cv=5, n_jobs=-1, random_state=42, error_score='raise')\n",
    "rs_rf = RandomizedSearchCV(rf, param_distributions=param_grid_rf, n_iter=10, scoring='r2', cv=5, n_jobs=-1, random_state=42, error_score='raise')\n",
    "rs_lgb = RandomizedSearchCV(lgb_model, param_distributions=param_grid_lgb, n_iter=10, scoring='r2', cv=5, n_jobs=-1, random_state=42, error_score='raise')\n",
    "\n",
    "#  Fit models\n",
    "rs_gb.fit(X_train, y_train)\n",
    "rs_rf.fit(X_train, y_train)\n",
    "rs_lgb.fit(X_train, y_train)\n",
    "\n",
    "#  Show best R² scores\n",
    "print(\"Best Gradient Boosting R²:\", rs_gb.best_score_)\n",
    "print(\"Best Random Forest R²    :\", rs_rf.best_score_)\n",
    "print(\"Best LightGBM R²         :\", rs_lgb.best_score_)\n"
   ]
  },
  {
   "cell_type": "markdown",
   "id": "613bb9f3",
   "metadata": {},
   "source": [
    "# Conclusion from Hyperparameter Tuning:"
   ]
  },
  {
   "cell_type": "markdown",
   "id": "410008ca",
   "metadata": {},
   "source": [
    "| Model             | CV R² (Before Tuning) | CV R² (After Tuning)                           |\n",
    "| ----------------- | --------------------- | ---------------------------------------------- |\n",
    "| Gradient Boosting | 0.8257                | **0.8252** (⬅ similar; already well-optimized) |\n",
    "| LightGBM          | 0.8165                | **0.8225** (⬆ slightly improved)               |\n",
    "| Random Forest     | 0.8118                | **0.7857** (⬇ performance dropped slightly)    |\n"
   ]
  },
  {
   "cell_type": "markdown",
   "id": "b52e7101",
   "metadata": {},
   "source": [
    "# Key Takeaways:\n",
    "\n",
    "Gradient Boosting remains the best model (both before and after tuning).\n",
    "\n",
    "LightGBM improved slightly and is a strong alternative.\n",
    "\n",
    "Random Forest tuning didn’t improve results — might skip further refinement."
   ]
  },
  {
   "cell_type": "markdown",
   "id": "191befce",
   "metadata": {},
   "source": [
    "# Next steps\n",
    "\n",
    "\n",
    "### Final Evaluation on Test Set\n",
    "\n",
    "### Feature Importance\n",
    "\n",
    "### Save the Best Model ( AFTER Evaluation)\n",
    "\n",
    "### Error Analysis"
   ]
  },
  {
   "cell_type": "markdown",
   "id": "85151684",
   "metadata": {},
   "source": [
    "# Final Evaluation on Test Set"
   ]
  },
  {
   "cell_type": "code",
   "execution_count": 16,
   "id": "4af458b7",
   "metadata": {},
   "outputs": [
    {
     "name": "stdout",
     "output_type": "stream",
     "text": [
      "                         R²  Adjusted R²   1 - MAE\n",
      "Gradient Boosting  0.812374     0.803418  0.699873\n",
      "LightGBM           0.815935     0.807149  0.700708\n"
     ]
    }
   ],
   "source": [
    "from sklearn.metrics import r2_score, mean_absolute_error\n",
    "import numpy as np\n",
    "\n",
    "# Predictions\n",
    "y_pred_gb = rs_gb.best_estimator_.predict(X_test)\n",
    "y_pred_lgb = rs_lgb.best_estimator_.predict(X_test)\n",
    "\n",
    "# Function to calculate R², Adjusted R², 1 - MAE\n",
    "def get_metrics(y_true, y_pred, n, p):\n",
    "    r2 = r2_score(y_true, y_pred)\n",
    "    adj_r2 = 1 - (1 - r2) * (n - 1) / (n - p - 1)\n",
    "    mae = mean_absolute_error(y_true, y_pred)\n",
    "    return [r2, adj_r2, 1 - mae]\n",
    "\n",
    "# Input dimensions\n",
    "n, p = X_test.shape\n",
    "\n",
    "# Prepare results\n",
    "metrics_data = {\n",
    "    'Gradient Boosting': get_metrics(y_test, y_pred_gb, n, p),\n",
    "    'LightGBM': get_metrics(y_test, y_pred_lgb, n, p)\n",
    "}\n",
    "metrics_df = pd.DataFrame(metrics_data, index=['R²', 'Adjusted R²', '1 - MAE']).T\n",
    "print(metrics_df)"
   ]
  },
  {
   "cell_type": "code",
   "execution_count": 17,
   "id": "fddacef0",
   "metadata": {},
   "outputs": [
    {
     "data": {
      "image/png": "[encoded data removed]",
      "text/plain": [
       "<Figure size 1000x500 with 1 Axes>"
      ]
     },
     "metadata": {},
     "output_type": "display_data"
    }
   ],
   "source": [
    "import matplotlib.pyplot as plt\n",
    "\n",
    "# Labels and setup\n",
    "labels = list(metrics_data.keys())\n",
    "metrics = ['R²', 'Adjusted R²', '1 - MAE']\n",
    "values = np.array(list(metrics_data.values()))\n",
    "x = np.arange(len(labels))\n",
    "width = 0.25\n",
    "\n",
    "# Plotting\n",
    "plt.figure(figsize=(10, 5))\n",
    "for i in range(values.shape[1]):\n",
    "    plt.bar(x + i * width, values[:, i], width, label=metrics[i])\n",
    "\n",
    "plt.xlabel('Model')\n",
    "plt.ylabel('Score')\n",
    "plt.title('Tuned Model Performance Comparison')\n",
    "plt.xticks(x + width, labels)\n",
    "plt.ylim(0, 1)\n",
    "plt.legend()\n",
    "plt.tight_layout()\n",
    "plt.show()"
   ]
  },
  {
   "cell_type": "markdown",
   "id": "71df928c",
   "metadata": {},
   "source": [
    "# Conclusion from Tuned Model Comparison\n",
    "\n",
    "| Metric          | Best Performer                             |\n",
    "| --------------- | ------------------------------------------ |\n",
    "| **R² Score**    | LightGBM ≈ Gradient Boosting (both strong) |\n",
    "| **Adjusted R²** | LightGBM slightly ahead                    |\n",
    "| **1 - MAE**     | LightGBM slightly better (lower error)     |\n"
   ]
  },
  {
   "cell_type": "markdown",
   "id": "fe5737ef",
   "metadata": {},
   "source": [
    "# Best Model Selection – Final Decision\n",
    "\n",
    "Based on the cross-validation and final evaluation on test data, the best model is:Gradient Boosting Regressor because\n",
    "\n",
    "\n",
    "| Metric        | Gradient Boosting  | LightGBM               |\n",
    "| ------------- | ------------------ | ---------------------- |\n",
    "| **R² Score**  | **0.8252**         | 0.8225                 |\n",
    "| **MAE**       | **Lower**          | Higher                 |\n",
    "| **RMSE**      | **Slightly lower** | Slightly higher        |\n",
    "| **Stability** | More consistent    | Slightly more variance |\n",
    "\n"
   ]
  },
  {
   "cell_type": "markdown",
   "id": "57473161",
   "metadata": {},
   "source": [
    "#  Save the Best Model (AFTER Evaluation)\n",
    "\n",
    "### Save rs_gb.best_estimator_ as the final model."
   ]
  },
  {
   "cell_type": "code",
   "execution_count": 21,
   "id": "1f496308",
   "metadata": {},
   "outputs": [
    {
     "name": "stdout",
     "output_type": "stream",
     "text": [
      "Gradient Boosting model saved to 'model/best_model.pkl'\n"
     ]
    }
   ],
   "source": [
    "import os\n",
    "import joblib\n",
    "\n",
    "# Create directory if not exists\n",
    "os.makedirs('model', exist_ok=True)\n",
    "\n",
    "# Save the best model\n",
    "joblib.dump(rs_gb.best_estimator_, 'model/best_model.pkl')\n",
    "print(\"Gradient Boosting model saved to 'model/best_model.pkl'\")"
   ]
  }
 ],
 "metadata": {
  "kernelspec": {
   "display_name": "Python (lr_bankloan_env)",
   "language": "python",
   "name": "lr_bankloan_env"
  },
  "language_info": {
   "codemirror_mode": {
    "name": "ipython",
    "version": 3
   },
   "file_extension": ".py",
   "mimetype": "text/x-python",
   "name": "python",
   "nbconvert_exporter": "python",
   "pygments_lexer": "ipython3",
   "version": "3.11.11"
  }
 },
 "nbformat": 4,
 "nbformat_minor": 5
}
