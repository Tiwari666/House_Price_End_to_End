{
 "cells": [
  {
   "cell_type": "markdown",
   "id": "7b0fa2dc",
   "metadata": {},
   "source": [
    "# Step 1: How to open a project folder manually in VS Code:\n",
    "\n",
    "Create a folder manually on the desktop (or any location).\n",
    "\n",
    "Go inside the just created folder ( open the folder)\n",
    "\n",
    "Click on the directory of the folder and delete the directory of the folder (path) and write \"cmd\" on the path of directory to open the VS code\n",
    "\n",
    "Command prompt( cmd) will open then write \"code .\" \n",
    "\n",
    "Finally, the project folder will open inside the VS code"
   ]
  },
  {
   "cell_type": "markdown",
   "id": "c7109af0",
   "metadata": {},
   "source": [
    "# Step 2: Setting up the GitGup Repository\n",
    "\n",
    "a) Log in the GitHub\n",
    "\n",
    "b) Create a new repository ( public)\n",
    "\n",
    "c) After creating the repository, you can see the following:\n",
    "\n",
    "…or create a new repository on the command line\n",
    "\n",
    "echo \"# House_Price_End_to_End\" >> README.md\n",
    "\n",
    "git init\n",
    "\n",
    "git add README.md\n",
    "\n",
    "git commit -m \"first commit\"\n",
    "\n",
    "git branch -M main\n",
    "\n",
    "git remote add origin https://github.com/Tiwari666/House_Price_End_to_End.git\n",
    "\n",
    "git push -u origin main\n",
    "\n",
    "++++++++++++++++++++++++++++++\n",
    "\n",
    "…or push an existing repository from the command line\n",
    "\n",
    "git remote add origin https://github.com/Tiwari666/House_Price_End_to_End.git\n",
    "\n",
    "git branch -M main\n",
    "\n",
    "git push -u origin main\n",
    "\n"
   ]
  },
  {
   "cell_type": "markdown",
   "id": "b28ce88c",
   "metadata": {},
   "source": [
    "# Step 3: Create & activate the Virtual Environment (venv):\n",
    "\n",
    "a) Open the VS code \n",
    "\n",
    "b) open the terminal and write: \n",
    "\n",
    "code : conda create -p venv -y\n",
    "\n",
    "c) you see that venv is created\n",
    "\n",
    "d) Activate the venv via: \n",
    "\n",
    "code : conda activate venv/\n"
   ]
  },
  {
   "cell_type": "markdown",
   "id": "e4a426ae",
   "metadata": {},
   "source": [
    "# 4. Cloning the repository from GitHub to the local machine so that we can use it in the VS code to update our GitHub Repositories:\n",
    "\n",
    "Cloning means making a copy of someone else's project or code from GitHub (or similar platforms) to your computer so you can use, change, or build on it.\n",
    "\n",
    "a) Open the terminal\n",
    "\n",
    "b) initilize the git : git init\n",
    "\n",
    "c) Create the README.md file inside the working directory and add it\n",
    "\n",
    "code: git add README.md\n",
    "\n",
    "\n",
    "\n",
    "d) git commit -m \"first commit\"\n",
    "\n",
    "e) git status\n",
    "\n",
    "cd C:\\Users\\naren\\Desktop\\New_DS\\House_Price_Prediction\n",
    "\n",
    "\n",
    "f) git branch -M main\n",
    "\n",
    "g) git remote add origin https://github.com/Tiwari666/House_Price_End_to_End.git\n",
    "\n",
    "h) Set Git Global Config (Use Your Info)\n",
    "\n",
    "git config --global user.name \"Tiwari666\"\n",
    "\n",
    "git config --global user.email \"narendra76052@gmail.com\"\n",
    "\n",
    "\n",
    "i)  Add all files and commit:\n",
    "\n",
    "git add .\n",
    "\n",
    "git commit -m \"Initial commit\"\n",
    "\n",
    "\n",
    "j) git push -u origin main\n",
    "\n",
    "k) go to GitHub and refresh it, we will see the venv and README.md file updated in the GitHub.\n"
   ]
  },
  {
   "cell_type": "markdown",
   "id": "0c1c1976",
   "metadata": {},
   "source": [
    "# Step 5 : Create the .gitignore file from the GitHub\n",
    "\n",
    "some files that may not be implemted in the GitHub will be removed.\n",
    "\n",
    "a) create the new file called \".ignore\" in the GitHub\n",
    "\n",
    "b) From the \"Choose .gitignore template\", choose the language \"Python\" on the LHS top corner.\n",
    "\n",
    "c) 'Commit Changes\" on the RHS top corner, write \"Create .gitignore? as shown in the box\n",
    "\n",
    "d) run \"git pull\" to reflect the changers in the VS Code\n"
   ]
  },
  {
   "cell_type": "markdown",
   "id": "926b44b9",
   "metadata": {},
   "source": [
    "# Step 6: \n",
    "\n",
    "create setup.py and requirements.txt manually in the vs code.\n",
    "\n",
    "setup.py is repsponsible for crerating the ML applivcation as a package. \n",
    "\n",
    "\n",
    "Note : The file __init__.py makes src a Python package, meaning Python will treat it as a module you can import.\n",
    "\n",
    "Note : find_packages() automatically finds all packages (i.e., folders with __init__.py) under the current directory.\n",
    "\n",
    "find_packages() tells Python: “Look in the project folders (like src/) and include them as installable packages.”"
   ]
  },
  {
   "cell_type": "markdown",
   "id": "3ed94fff",
   "metadata": {},
   "source": [
    "# Code for the setup.py file:\n",
    "\n",
    "\n",
    "from setuptools import find_packages,setup\n",
    "from typing import List\n",
    "\n",
    "HYPEN_E_DOT='-e .'\n",
    "def get_requirements(file_path:str)->List[str]:\n",
    "    '''\n",
    "    this function will return the list of requirements\n",
    "    '''\n",
    "    requirements=[]\n",
    "    with open(file_path) as file_obj:\n",
    "        requirements=file_obj.readlines()\n",
    "        requirements=[req.replace(\"\\n\",\"\") for req in requirements]\n",
    "\n",
    "        if HYPEN_E_DOT in requirements:\n",
    "            requirements.remove(HYPEN_E_DOT)\n",
    "    \n",
    "    return requirements\n",
    "\n",
    "setup(\n",
    "name='House_Price_Prediction',\n",
    "version='0.0.1',\n",
    "author='Narendra',\n",
    "author_email='narendra76052@gmail.com',\n",
    "packages=find_packages(),\n",
    "install_requires=get_requirements('requirements.txt')\n",
    "\n",
    ")"
   ]
  },
  {
   "cell_type": "markdown",
   "id": "98b95dbc",
   "metadata": {},
   "source": [
    "# step 7: create the src folder as a package with __init__ file in it\n",
    "\n"
   ]
  },
  {
   "cell_type": "markdown",
   "id": "3e849abd",
   "metadata": {},
   "source": [
    "# Step 8: Run the requirements.txt in the terminal\n",
    "\n",
    "code : pip install -r requirements.txt"
   ]
  },
  {
   "cell_type": "markdown",
   "id": "7a14283c",
   "metadata": {},
   "source": [
    "# step 9: Run the terminal\n",
    "\n",
    "git add .\n",
    "\n",
    "git status\n",
    "\n",
    "git commit -m \"setup\"\n",
    "\n",
    "git push -u origin main"
   ]
  },
  {
   "cell_type": "markdown",
   "id": "3191e279",
   "metadata": {},
   "source": [
    "+++++++++++++++++++++++++++++++++++++++++++++++++++++++++"
   ]
  },
  {
   "cell_type": "markdown",
   "id": "d4525691",
   "metadata": {},
   "source": [
    " # Agenda for the setup1 instriuctions\n",
    "\n",
    "1. Set up the GitHub Repository\n",
    "\n",
    "a) Create a new virtual environment\n",
    "\n",
    "b) Create and configure setup.py\n",
    "\n",
    "c) Create requirements.txt\n",
    "\n",
    "2. Organize src/ Folder and Build the Package"
   ]
  },
  {
   "cell_type": "markdown",
   "id": "50e79253",
   "metadata": {},
   "source": [
    "# ✅ Set Up Project with GitHub\n",
    "Data Ingestion\n",
    "\n",
    "Data Transformation\n",
    "\n",
    "Model Training\n",
    "\n",
    "Model Evaluation\n",
    "\n",
    "Model Deployment\n",
    "\n",
    "# 🔁 CI/CD Pipelines\n",
    "\n",
    "Tool: GitHub Actions\n",
    "\n",
    "Deployment: AWS"
   ]
  }
 ],
 "metadata": {
  "kernelspec": {
   "display_name": "Python 3",
   "language": "python",
   "name": "python3"
  },
  "language_info": {
   "name": "python",
   "version": "3.11.9"
  }
 },
 "nbformat": 4,
 "nbformat_minor": 5
}
