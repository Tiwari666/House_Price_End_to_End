{
 "cells": [
  {
   "cell_type": "markdown",
   "id": "27ed3b53",
   "metadata": {},
   "source": [
    "# Step-by-Step Plan (from now onward)"
   ]
  },
  {
   "cell_type": "markdown",
   "id": "135d0732",
   "metadata": {},
   "source": [
    "| Step | Task                                                                                                    | File/Module                       | Status            |\n",
    "| ---- | ------------------------------------------------------------------------------------------------------- | --------------------------------- | ----------------- |\n",
    "| 1️⃣  | **Update `utils.py`** to include: `evaluate_models`, cross-validation support, adjusted R², MAE         | `src/utils.py`                    |  Next Step       |\n",
    "| 2️⃣  | **Update `model_trainer.py`** to include all 8 models, hyperparameter tuning, and model comparison plot | `src/components/model_trainer.py` | Soon            |\n",
    "| 3️⃣  | Save **best model (`model.pkl`)** and **`preprocessor.pkl`** in `artifacts/`                            | Done via code                     | ✅ Working         |\n",
    "| 4️⃣  | Build `train_pipeline.py` to call ingestion → transformation → model trainer                            | `src/pipeline/train_pipeline.py`  |  Later           |\n",
    "| 5️⃣  | Prepare `FlaskApp` with `predict_pipeline.py` for UI/API                                                | `FlaskApp` folder                 |  Deployment Step |\n",
    "| 6️⃣  | Host model via Render / Railway / HuggingFace / GCP                                                     | Cloud                             |  Final Step      |\n"
   ]
  },
  {
   "cell_type": "markdown",
   "id": "37a9ee82",
   "metadata": {},
   "source": []
  }
 ],
 "metadata": {
  "language_info": {
   "name": "python"
  }
 },
 "nbformat": 4,
 "nbformat_minor": 5
}
