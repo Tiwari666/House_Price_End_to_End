{
 "cells": [
  {
   "cell_type": "markdown",
   "id": "577bafc0",
   "metadata": {},
   "source": [
    "# Deployment Roadmap"
   ]
  },
  {
   "cell_type": "markdown",
   "id": "015f78fd",
   "metadata": {},
   "source": [
    "| Step | Task                 | Description                                                                                    |\n",
    "| ---- | -------------------- | ---------------------------------------------------------------------------------------------- |\n",
    "| 1️⃣  | **Flask App**        | Build a web interface to take user input and show predictions.                                 |\n",
    "| 2️⃣  | **Dockerization**    | Create a `Dockerfile` to containerize the app (Flask + model files).                          |\n",
    "| 3️⃣  | **Cloud Deployment** | Push to a platform like **Render**, **Heroku**, **AWS**, or **GCP**. Docker makes this easier. |\n"
   ]
  },
  {
   "cell_type": "markdown",
   "id": "7fcd5b14",
   "metadata": {},
   "source": [
    "# Create the FlaskApp directory as follows:\n",
    "\n",
    "Inside the project folder (LR_BankLoan), create a folder named FlaskApp:\n",
    "\n",
    "\n",
    "```\n",
    "LR_BankLoan/\n",
    "├── artifacts/                  # Saved models, preprocessors\n",
    "├── src/                        # ML pipeline modules (data_ingestion, transformation, trainer, etc.)\n",
    "├── FlaskApp/                   # Flask web app\n",
    "│   ├── templates/              # HTML files\n",
    "│   │   └── home.html           # Main frontend page\n",
    "│   ├── static/                 # (Optional) CSS, JS, images\n",
    "│   └── app.py                  # ← Flask app entry point\n",
    "```\n",
    "\n",
    "\n"
   ]
  },
  {
   "cell_type": "markdown",
   "id": "e532ef67",
   "metadata": {},
   "source": [
    "# Enter the following info to test the Flask loan interest rate predictor form: :\n",
    "\n",
    "| Field                        | Sample Value         |\n",
    "| ---------------------------- | -------------------- |\n",
    "| **Amount Requested**         | `10000`              |\n",
    "| **Funded by Investors**      | `9500`               |\n",
    "| **Loan Length (36 or 60)**   | `36`                 |\n",
    "| **Debt-to-Income Ratio**     | `12.5`               |\n",
    "| **Monthly Income**           | `4000`               |\n",
    "| **FICO Range (avg)**         | `680`                |\n",
    "| **Open Credit Lines**        | `6`                  |\n",
    "| **Revolving Credit Balance** | `8000`               |\n",
    "| **Inquiries Last 6 Mo**      | `1`                  |\n",
    "| **Home Ownership**           | `RENT`               |\n",
    "| **Loan Purpose**             | `debt_consolidation` |\n",
    "| **State Region**             | `west`               |\n",
    "| **Employment Length Group**  | `2` *(medium)*       |\n"
   ]
  },
  {
   "cell_type": "markdown",
   "id": "bd97f9ad",
   "metadata": {},
   "source": []
  }
 ],
 "metadata": {
  "language_info": {
   "name": "python"
  }
 },
 "nbformat": 4,
 "nbformat_minor": 5
}
