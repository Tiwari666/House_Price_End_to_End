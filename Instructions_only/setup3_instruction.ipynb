{
 "cells": [
  {
   "cell_type": "markdown",
   "id": "1b2897ce",
   "metadata": {},
   "source": [
    "# Data ingestion: Start with creating the notbook folder inside the main working directory\n",
    "\n",
    "Let me run the requirements.txt first :\n",
    "\n",
    "\n",
    "cd C:\\Users\\naren\\Desktop\\New_DS\\House_Price_Prediction\n",
    "\n",
    "conda activate house_env\n",
    "\n",
    "pip install -r requirements.txt\n",
    "\n"
   ]
  },
  {
   "cell_type": "markdown",
   "id": "edd807ba",
   "metadata": {},
   "source": [
    "# Start  from making notebook folder"
   ]
  },
  {
   "cell_type": "markdown",
   "id": "78f26bfe",
   "metadata": {},
   "source": [
    "--create the notebook folder inside the main working directory\n",
    "\n",
    "--Inside the notebook, create another foder data"
   ]
  }
 ],
 "metadata": {
  "kernelspec": {
   "display_name": "Python 3",
   "language": "python",
   "name": "python3"
  },
  "language_info": {
   "name": "python",
   "version": "3.11.9"
  }
 },
 "nbformat": 4,
 "nbformat_minor": 5
}
