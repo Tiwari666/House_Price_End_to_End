{
 "cells": [
  {
   "cell_type": "markdown",
   "id": "7b0fa2dc",
   "metadata": {},
   "source": [
    "# Step 1: How to open a project folder manually in VS Code:\n",
    "\n",
    "Create a folder manually on the desktop (or any location).\n",
    "\n",
    "Go inside the just created folder ( open the folder)\n",
    "\n",
    "Click on the directory of the folder and delete the directory of the folder (path) and write \"cmd\" on the path of directory to open the VS code\n",
    "\n",
    "Command prompt( cmd) will open then write \"code .\" \n",
    "\n",
    "Finally, the project folder will open inside the VS code"
   ]
  },
  {
   "cell_type": "markdown",
   "id": "c7109af0",
   "metadata": {},
   "source": [
    "# Step 2: Setting up the GitGup Repository\n",
    "\n",
    "a) Log in the GitHub\n",
    "\n",
    "b) Create a new repository ( public)\n",
    "\n",
    "c) After creating the repository, you can see the following:\n",
    "\n",
    "…or create a new repository on the command line\n",
    "\n",
    "echo \"# House_Price_End_to_End\" >> README.md\n",
    "\n",
    "git init\n",
    "\n",
    "git add README.md\n",
    "\n",
    "git commit -m \"first commit\"\n",
    "\n",
    "git branch -M main\n",
    "\n",
    "git remote add origin https://github.com/Tiwari666/House_Price_End_to_End.git\n",
    "\n",
    "git push -u origin main\n",
    "\n",
    "++++++++++++++++++++++++++++++\n",
    "\n",
    "…or push an existing repository from the command line\n",
    "\n",
    "git remote add origin https://github.com/Tiwari666/House_Price_End_to_End.git\n",
    "\n",
    "git branch -M main\n",
    "\n",
    "git push -u origin main\n",
    "\n"
   ]
  },
  {
   "cell_type": "markdown",
   "id": "b28ce88c",
   "metadata": {},
   "source": [
    "# Step 3: Create & activate the Virtual Environment (venv):\n",
    "\n",
    "a) Open the VS code \n",
    "\n",
    "b) open the terminal and write: \n",
    "\n",
    "code : conda create -p venv -y\n",
    "\n",
    "c) you see that venv is created\n",
    "\n",
    "d) Activate the venv via: \n",
    "\n",
    "code : conda activate venv/\n"
   ]
  },
  {
   "cell_type": "markdown",
   "id": "e4a426ae",
   "metadata": {},
   "source": [
    "# 4. Cloning the repository from GitHub to the local machine so that we can use it in the VS code to update our GitHub Repositories:\n",
    "\n",
    "Cloning means making a copy of someone else's project or code from GitHub (or similar platforms) to your computer so you can use, change, or build on it.\n",
    "\n",
    "a) Open the terminal\n",
    "\n",
    "b) initilize the git : git init\n",
    "\n",
    "c) Create the README.md file inside the working directory and add it\n",
    "\n",
    "code: git add README.md\n",
    "\n",
    "\n",
    "\n",
    "d) git commit -m \"first commit\"\n",
    "\n",
    "e) git status\n",
    "\n",
    "cd C:\\Users\\naren\\Desktop\\New_DS\\House_Price_Prediction\n",
    "\n",
    "\n",
    "f) git branch -M main\n",
    "\n",
    "g) git remote add origin https://github.com/Tiwari666/House_Price_End_to_End.git\n",
    "\n",
    "h) Set Git Global Config (Use Your Info)\n",
    "\n",
    "git config --global user.name \"Tiwari666\"\n",
    "\n",
    "git config --global user.email \"narendra76052@gmail.com\"\n",
    "\n",
    "\n",
    "i)  Add all files and commit:\n",
    "\n",
    "git add .\n",
    "\n",
    "git commit -m \"Initial commit\"\n",
    "\n",
    "\n",
    "j) git push -u origin main\n",
    "\n",
    "k) go to GitHub and refresh it, we will see the venv and README.md file updated in the GitHub.\n",
    "\n",
    "l) add a gitignore file"
   ]
  },
  {
   "cell_type": "markdown",
   "id": "06e9e020",
   "metadata": {},
   "source": []
  },
  {
   "cell_type": "markdown",
   "id": "dd6d9839",
   "metadata": {},
   "source": [
    "#  Step 1: Set Up the GitHub Repository\n",
    "\n",
    "a) Create a new virtual environment\n",
    "\n",
    "b) Add a setup.py file (trial project)\n",
    "\n",
    "c) Create a requirements.txt file"
   ]
  },
  {
   "cell_type": "markdown",
   "id": "50e79253",
   "metadata": {},
   "source": [
    "# ✅ Set Up Project with GitHub\n",
    "Data Ingestion\n",
    "\n",
    "Data Transformation\n",
    "\n",
    "Model Training\n",
    "\n",
    "Model Evaluation\n",
    "\n",
    "Model Deployment\n",
    "\n",
    "# 🔁 CI/CD Pipelines\n",
    "\n",
    "Tool: GitHub Actions\n",
    "\n",
    "Deployment: AWS"
   ]
  },
  {
   "cell_type": "markdown",
   "id": "96b723cd",
   "metadata": {},
   "source": []
  }
 ],
 "metadata": {
  "kernelspec": {
   "display_name": "Python 3",
   "language": "python",
   "name": "python3"
  },
  "language_info": {
   "name": "python",
   "version": "3.11.9"
  }
 },
 "nbformat": 4,
 "nbformat_minor": 5
}
